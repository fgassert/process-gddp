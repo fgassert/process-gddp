{
 "cells": [
  {
   "cell_type": "code",
   "execution_count": 47,
   "metadata": {},
   "outputs": [],
   "source": [
    "import rasterio as rio\n",
    "from rasterio import plot, mask\n",
    "import matplotlib\n",
    "import geopandas as gpd\n",
    "import numpy as np\n",
    "import os"
   ]
  },
  {
   "cell_type": "code",
   "execution_count": 48,
   "metadata": {},
   "outputs": [],
   "source": [
    "INDIR='cache/'\n",
    "OUTDIR='cache/share/'\n",
    "POLY='https://www.naturalearthdata.com/http//www.naturalearthdata.com/download/10m/physical/ne_10m_land.zip'\n",
    "\n",
    "!mkdir -p $OUTDIR"
   ]
  },
  {
   "cell_type": "code",
   "execution_count": 25,
   "metadata": {},
   "outputs": [],
   "source": [
    "geoms = gpd.read_file(POLY)['geometry']"
   ]
  },
  {
   "cell_type": "code",
   "execution_count": 54,
   "metadata": {},
   "outputs": [],
   "source": [
    "def clip_and_scale(infile, scale=1):\n",
    "    inpath = os.path.join(INDIR, infile)\n",
    "    with rio.open(inpath) as src:\n",
    "        img, transform = rio.mask.mask(src, geoms, crop=False, all_touched=True, nodata=np.nan)\n",
    "        if scale != 1:\n",
    "            img *= scale\n",
    "        profile = src.profile\n",
    "        profile['nodata'] = np.nan\n",
    "        outpath = os.path.join(OUTDIR, 'clip_'+infile)\n",
    "        with rio.open(outpath, 'w', **profile) as dst:\n",
    "            dst.write(img)"
   ]
  },
  {
   "cell_type": "code",
   "execution_count": 56,
   "metadata": {},
   "outputs": [],
   "source": [
    "indicators = ['drydays_pr','q99_pr','annual_pr','gt95f_tasmax','gt85f_tasmin']\n",
    "scenarios = ['rcp45', 'rcp85']\n",
    "year = 1985\n",
    "for indicator in indicators:\n",
    "    for scenario in scenarios:\n",
    "        for year in range(1985, 2066, 10):\n",
    "            if indicator in ['q99_pr','annual_pr']:\n",
    "                scale = 86400\n",
    "            else:\n",
    "                scale = 1\n",
    "            infile=f\"q50-diff-{indicator}_{scenario}_ens_{year}-{year+30}.tif\"\n",
    "            clip_and_scale(infile, scale)"
   ]
  },
  {
   "cell_type": "code",
   "execution_count": 58,
   "metadata": {},
   "outputs": [],
   "source": [
    "!open cache/share"
   ]
  },
  {
   "cell_type": "code",
   "execution_count": null,
   "metadata": {},
   "outputs": [],
   "source": []
  }
 ],
 "metadata": {
  "kernelspec": {
   "display_name": "Python 3",
   "language": "python",
   "name": "python3"
  },
  "language_info": {
   "codemirror_mode": {
    "name": "ipython",
    "version": 3
   },
   "file_extension": ".py",
   "mimetype": "text/x-python",
   "name": "python",
   "nbconvert_exporter": "python",
   "pygments_lexer": "ipython3",
   "version": "3.7.3"
  }
 },
 "nbformat": 4,
 "nbformat_minor": 2
}
